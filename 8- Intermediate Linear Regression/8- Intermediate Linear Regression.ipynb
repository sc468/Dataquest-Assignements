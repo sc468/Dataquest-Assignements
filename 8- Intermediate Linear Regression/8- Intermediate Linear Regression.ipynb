{
 "cells": [
  {
   "cell_type": "code",
   "execution_count": 2,
   "metadata": {
    "collapsed": false
   },
   "outputs": [
    {
     "name": "stdout",
     "output_type": "stream",
     "text": [
      "      lean  year\n",
      "0   2.9642  1975\n",
      "1   2.9644  1976\n",
      "2   2.9656  1977\n",
      "3   2.9667  1978\n",
      "4   2.9673  1979\n",
      "5   2.9688  1980\n",
      "6   2.9696  1981\n",
      "7   2.9698  1982\n",
      "8   2.9713  1983\n",
      "9   2.9717  1984\n",
      "10  2.9725  1985\n",
      "11  2.9742  1986\n",
      "12  2.9757  1987\n"
     ]
    },
    {
     "data": {
      "image/png": "[encoded data removed]",
      "text/plain": [
       "<matplotlib.figure.Figure at 0x1fd263e4e48>"
      ]
     },
     "metadata": {},
     "output_type": "display_data"
    }
   ],
   "source": [
    "import pandas\n",
    "import matplotlib.pyplot as plt\n",
    "\n",
    "#Input Tower of Piza off-axis distance data\n",
    "pisa = pandas.DataFrame({\"year\": range(1975, 1988),\n",
    "  \"lean\": [2.9642, 2.9644, 2.9656, 2.9667, 2.9673, 2.9688, 2.9696,\n",
    "  2.9698, 2.9713, 2.9717, 2.9725, 2.9742, 2.9757]})\n",
    "\n",
    "print(pisa)\n",
    "\n",
    "#Plot data\n",
    "plt.scatter(pisa['year'],pisa['lean'])\n",
    "plt.show()"
   ]
  },
  {
   "cell_type": "code",
   "execution_count": 3,
   "metadata": {
    "collapsed": false
   },
   "outputs": [
    {
     "name": "stdout",
     "output_type": "stream",
     "text": [
      "                            OLS Regression Results                            \n",
      "==============================================================================\n",
      "Dep. Variable:                   lean   R-squared:                       0.988\n",
      "Model:                            OLS   Adj. R-squared:                  0.987\n",
      "Method:                 Least Squares   F-statistic:                     904.1\n",
      "Date:                Sat, 27 May 2017   Prob (F-statistic):           6.50e-12\n",
      "Time:                        09:38:02   Log-Likelihood:                 83.777\n",
      "No. Observations:                  13   AIC:                            -163.6\n",
      "Df Residuals:                      11   BIC:                            -162.4\n",
      "Df Model:                           1                                         \n",
      "Covariance Type:            nonrobust                                         \n",
      "==============================================================================\n",
      "                 coef    std err          t      P>|t|      [95.0% Conf. Int.]\n",
      "------------------------------------------------------------------------------\n",
      "const          1.1233      0.061     18.297      0.000         0.988     1.258\n",
      "year           0.0009    3.1e-05     30.069      0.000         0.001     0.001\n",
      "==============================================================================\n",
      "Omnibus:                        0.310   Durbin-Watson:                   1.642\n",
      "Prob(Omnibus):                  0.856   Jarque-Bera (JB):                0.450\n",
      "Skew:                           0.094   Prob(JB):                        0.799\n",
      "Kurtosis:                       2.108   Cond. No.                     1.05e+06\n",
      "==============================================================================\n",
      "\n",
      "Warnings:\n",
      "[1] Standard Errors assume that the covariance matrix of the errors is correctly specified.\n",
      "[2] The condition number is large, 1.05e+06. This might indicate that there are\n",
      "strong multicollinearity or other numerical problems.\n"
     ]
    },
    {
     "name": "stderr",
     "output_type": "stream",
     "text": [
      "C:\\Users\\Steve\\Anaconda3\\lib\\site-packages\\scipy\\stats\\stats.py:1327: UserWarning: kurtosistest only valid for n>=20 ... continuing anyway, n=13\n",
      "  \"anyway, n=%i\" % int(n))\n"
     ]
    }
   ],
   "source": [
    "import statsmodels.api as sm\n",
    "\n",
    "#Use statsmodel library for detailed linear fit\n",
    "y = pisa.lean # target\n",
    "X = pisa.year # features\n",
    "X = sm.add_constant(X) # add a column of 1's as the constant term\n",
    "\n",
    "# OLS -- Ordinary Least Squares Fit\n",
    "linear = sm.OLS(y, X)\n",
    "# fit model\n",
    "linearfit = linear.fit()\n",
    "\n",
    "print(linearfit.summary())"
   ]
  },
  {
   "cell_type": "code",
   "execution_count": 4,
   "metadata": {
    "collapsed": false
   },
   "outputs": [
    {
     "name": "stdout",
     "output_type": "stream",
     "text": [
      "[ 2.96377802  2.96470989  2.96564176  2.96657363  2.96750549  2.96843736\n",
      "  2.96936923  2.9703011   2.97123297  2.97216484  2.9730967   2.97402857\n",
      "  2.97496044]\n"
     ]
    }
   ],
   "source": [
    "# Our predicted values of y\n",
    "yhat = linearfit.predict(X)\n",
    "print(yhat)\n",
    "\n",
    "#Calculate residuals\n",
    "residuals = y - yhat"
   ]
  },
  {
   "cell_type": "code",
   "execution_count": 7,
   "metadata": {
    "collapsed": false
   },
   "outputs": [
    {
     "data": {
      "image/png": "[encoded data removed]",
      "text/plain": [
       "<matplotlib.figure.Figure at 0x1fd29327668>"
      ]
     },
     "metadata": {},
     "output_type": "display_data"
    }
   ],
   "source": [
    "#Plot histogram of residuals\n",
    "plt.hist(residuals, bins = 10)\n",
    "plt.show()\n",
    "\n",
    "#Residuals do not appear to be normal"
   ]
  },
  {
   "cell_type": "code",
   "execution_count": 12,
   "metadata": {
    "collapsed": false
   },
   "outputs": [
    {
     "name": "stdout",
     "output_type": "stream",
     "text": [
      "SSE: 1.92285714286e-06\n",
      "RSS: 0.000158044835165\n",
      "TSS: 0.000159967692308\n",
      "R2: 0.987979715684\n"
     ]
    }
   ],
   "source": [
    "import numpy as np\n",
    "#Calculate SSE, RSS, TSS, R^2\n",
    "\n",
    "# sum the (predicted - observed) squared\n",
    "SSE = np.sum((y.values-yhat)**2)\n",
    "mean = np.mean(y.values)\n",
    "RSS = np.sum((yhat - mean)**2)\n",
    "TSS = np.sum((y.values-mean)**2)\n",
    "\n",
    "R2 = 1-SSE/TSS\n",
    "print ('SSE:', SSE)\n",
    "print ('RSS:', RSS)\n",
    "print ('TSS:', TSS)\n",
    "print ('R2:', R2)"
   ]
  },
  {
   "cell_type": "code",
   "execution_count": 16,
   "metadata": {
    "collapsed": false
   },
   "outputs": [
    {
     "name": "stdout",
     "output_type": "stream",
     "text": [
      "                            OLS Regression Results                            \n",
      "==============================================================================\n",
      "Dep. Variable:                   lean   R-squared:                       0.988\n",
      "Model:                            OLS   Adj. R-squared:                  0.987\n",
      "Method:                 Least Squares   F-statistic:                     904.1\n",
      "Date:                Sat, 27 May 2017   Prob (F-statistic):           6.50e-12\n",
      "Time:                        10:03:45   Log-Likelihood:                 83.777\n",
      "No. Observations:                  13   AIC:                            -163.6\n",
      "Df Residuals:                      11   BIC:                            -162.4\n",
      "Df Model:                           1                                         \n",
      "Covariance Type:            nonrobust                                         \n",
      "==============================================================================\n",
      "                 coef    std err          t      P>|t|      [95.0% Conf. Int.]\n",
      "------------------------------------------------------------------------------\n",
      "const          1.1233      0.061     18.297      0.000         0.988     1.258\n",
      "year           0.0009    3.1e-05     30.069      0.000         0.001     0.001\n",
      "==============================================================================\n",
      "Omnibus:                        0.310   Durbin-Watson:                   1.642\n",
      "Prob(Omnibus):                  0.856   Jarque-Bera (JB):                0.450\n",
      "Skew:                           0.094   Prob(JB):                        0.799\n",
      "Kurtosis:                       2.108   Cond. No.                     1.05e+06\n",
      "==============================================================================\n",
      "\n",
      "Warnings:\n",
      "[1] Standard Errors assume that the covariance matrix of the errors is correctly specified.\n",
      "[2] The condition number is large, 1.05e+06. This might indicate that there are\n",
      "strong multicollinearity or other numerical problems.\n",
      "\n",
      "\n",
      " const    1.123338\n",
      "year     0.000932\n",
      "dtype: float64\n",
      "\n",
      "\n",
      "Delta: 0.013978021978\n"
     ]
    },
    {
     "name": "stderr",
     "output_type": "stream",
     "text": [
      "C:\\Users\\Steve\\Anaconda3\\lib\\site-packages\\scipy\\stats\\stats.py:1327: UserWarning: kurtosistest only valid for n>=20 ... continuing anyway, n=13\n",
      "  \"anyway, n=%i\" % int(n))\n"
     ]
    }
   ],
   "source": [
    "#Assuming no external forces on the tower, how many meters will the tower of Pisa lean in 15 years?\n",
    "#Assign the number of meters moved to variable delta.\n",
    "\n",
    "# Print the models summary\n",
    "print(linearfit.summary())\n",
    "\n",
    "\n",
    "#The models parameters\n",
    "print(\"\\n\\n\",linearfit.params)\n",
    "delta = 15*linearfit.params.year\n",
    "print('\\n\\nDelta:', delta)"
   ]
  },
  {
   "cell_type": "code",
   "execution_count": 18,
   "metadata": {
    "collapsed": false
   },
   "outputs": [
    {
     "name": "stdout",
     "output_type": "stream",
     "text": [
      "s2b1: 9.60468103325e-10\n"
     ]
    }
   ],
   "source": [
    "#Compute variance of coefficients\n",
    "mean = np.mean(pisa.year)\n",
    "s2b1 = SSE/(len(y)-2)/np.sum((pisa.year - mean)**2)\n",
    "\n",
    "print ('s2b1:', s2b1)"
   ]
  },
  {
   "cell_type": "code",
   "execution_count": 19,
   "metadata": {
    "collapsed": false
   },
   "outputs": [
    {
     "name": "stdout",
     "output_type": "stream",
     "text": [
      "[ 0.02297204  0.02441481  0.02596406  0.02762847  0.0294174   0.031341\n",
      "  0.03341025  0.03563701  0.03803403  0.04061509  0.04339497  0.04638952\n",
      "  0.04961567  0.05309149  0.05683617  0.06086996  0.0652142   0.06989116\n",
      "  0.07492395  0.08033633  0.08615245  0.09239652  0.0990924   0.10626304\n",
      "  0.11392986  0.12211193  0.13082504  0.14008063  0.14988449  0.16023537\n",
      "  0.17112343  0.18252859  0.1944188   0.20674834  0.21945618  0.23246464\n",
      "  0.2456783   0.2589835   0.27224841  0.28532401  0.29804594  0.31023748\n",
      "  0.32171351  0.33228555  0.34176766  0.34998293  0.35677032  0.36199128\n",
      "  0.36553585  0.36732769  0.36732769  0.36553585  0.36199128  0.35677032\n",
      "  0.34998293  0.34176766  0.33228555  0.32171351  0.31023748  0.29804594\n",
      "  0.28532401  0.27224841  0.2589835   0.2456783   0.23246464  0.21945618\n",
      "  0.20674834  0.1944188   0.18252859  0.17112343  0.16023537  0.14988449\n",
      "  0.14008063  0.13082504  0.12211193  0.11392986  0.10626304  0.0990924\n",
      "  0.09239652  0.08615245  0.08033633  0.07492395  0.06989116  0.0652142\n",
      "  0.06086996  0.05683617  0.05309149  0.04961567  0.04638952  0.04339497\n",
      "  0.04061509  0.03803403  0.03563701  0.03341025  0.031341    0.0294174\n",
      "  0.02762847  0.02596406  0.02441481  0.02297204]\n"
     ]
    }
   ],
   "source": [
    "#T-distribution example\n",
    "from scipy.stats import t\n",
    "\n",
    "# 100 values between -3 and 3\n",
    "x = np.linspace(-3,3,100)\n",
    "\n",
    "# Compute the pdf of a t distribution with 3 degrees of freedom\n",
    "print(t.pdf(x=x, df=3))"
   ]
  },
  {
   "cell_type": "code",
   "execution_count": 21,
   "metadata": {
    "collapsed": false
   },
   "outputs": [
    {
     "name": "stdout",
     "output_type": "stream",
     "text": [
      "T statistic: 30.0685846877\n",
      "const    1.123338\n",
      "year     0.000932\n",
      "dtype: float64\n"
     ]
    }
   ],
   "source": [
    "#Calculate T-statistic\n",
    "# The variable s2b1 is in memory. The variance of beta_1\n",
    "tstat = linearfit.params['year']/ (s2b1**0.5)\n",
    "print ('T statistic:', tstat)\n",
    "print (linearfit.params )"
   ]
  },
  {
   "cell_type": "code",
   "execution_count": 24,
   "metadata": {
    "collapsed": false
   },
   "outputs": [
    {
     "name": "stdout",
     "output_type": "stream",
     "text": [
      "Does Tower of Piza leaning depend on year?  True\n"
     ]
    }
   ],
   "source": [
    "#Perform T-test\n",
    "beta1_test = False\n",
    "\n",
    "# At the 95% confidence interval for a two-sided t-test we must use a p-value of 0.975\n",
    "pval = 0.975\n",
    "\n",
    "# The degrees of freedom\n",
    "df = pisa.shape[0] - 2\n",
    "\n",
    "# The probability to test against\n",
    "p = t.cdf(tstat, df=df)\n",
    "\n",
    "if p>0.975:\n",
    "    beta1_test = True\n",
    "else:\n",
    "    beta1_test = False\n",
    "    \n",
    "print ('Does Tower of Piza leaning depend on year? ', beta1_test)"
   ]
  },
  {
   "cell_type": "code",
   "execution_count": null,
   "metadata": {
    "collapsed": true
   },
   "outputs": [],
   "source": []
  }
 ],
 "metadata": {
  "anaconda-cloud": {},
  "kernelspec": {
   "display_name": "Python [conda root]",
   "language": "python",
   "name": "conda-root-py"
  },
  "language_info": {
   "codemirror_mode": {
    "name": "ipython",
    "version": 3
   },
   "file_extension": ".py",
   "mimetype": "text/x-python",
   "name": "python",
   "nbconvert_exporter": "python",
   "pygments_lexer": "ipython3",
   "version": "3.5.2"
  }
 },
 "nbformat": 4,
 "nbformat_minor": 1
}
