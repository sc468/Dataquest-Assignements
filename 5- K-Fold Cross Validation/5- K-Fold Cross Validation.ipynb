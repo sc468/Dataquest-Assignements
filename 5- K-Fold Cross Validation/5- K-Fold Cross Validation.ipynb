{
 "cells": [
  {
   "cell_type": "markdown",
   "metadata": {},
   "source": [
    "# K-Fold Cross Validation"
   ]
  },
  {
   "cell_type": "code",
   "execution_count": 4,
   "metadata": {
    "collapsed": false
   },
   "outputs": [
    {
     "name": "stdout",
     "output_type": "stream",
     "text": [
      "   index  col       gpa         gre  actual_label  fold\n",
      "0    473  473  3.348772  605.968197           0.0     1\n",
      "1    271  271  3.183203  595.195508           1.0     1\n",
      "2    472  472  3.092351  656.186812           0.0     1\n",
      "3    129  129  2.177100  623.303559           0.0     1\n",
      "4     21   21  3.105242  562.939715           0.0     1\n",
      "     index  col       gpa         gre  actual_label  fold\n",
      "995    650  650  3.298076  771.875487           1.0     1\n",
      "996    369  369  3.268196  691.260976           0.0     1\n",
      "997    640  640  3.581406  559.764878           1.0     1\n",
      "998    116  116  3.310185  505.381002           0.0     1\n",
      "999    671  671  3.690988  631.754900           0.0     1\n"
     ]
    }
   ],
   "source": [
    "import pandas as pd\n",
    "import numpy as np\n",
    "\n",
    "#Disable SettingWithCopyWarning\n",
    "pd.options.mode.chained_assignment = None\n",
    "\n",
    "#Split data into 5 sets\n",
    "admissions = pd.read_csv(\"admissions.csv\")\n",
    "admissions[\"actual_label\"] = admissions[\"admit\"]\n",
    "admissions = admissions.drop(\"admit\", axis=1)\n",
    "shuffled_index = np.random.permutation(admissions.index)\n",
    "shuffled_admissions = admissions.loc[shuffled_index]\n",
    "admissions = shuffled_admissions.reset_index()\n",
    "admissions['fold'] = 1\n",
    "admissions['fold'][0:129] = 1\n",
    "admissions['fold'][129:258] = 2\n",
    "admissions['fold'][258:387] = 3\n",
    "admissions['fold'][387:515] = 4\n",
    "admissions['fold'][515:645] = 5\n",
    "\n",
    "print (admissions.head())\n",
    "print (admissions.tail())"
   ]
  },
  {
   "cell_type": "code",
   "execution_count": 7,
   "metadata": {
    "collapsed": false
   },
   "outputs": [
    {
     "name": "stdout",
     "output_type": "stream",
     "text": [
      "0.7603305785123967\n"
     ]
    }
   ],
   "source": [
    "#First iteration\n",
    "#Use set 1 as Test set, set 2-5 as Training sets\n",
    "\n",
    "from sklearn.linear_model import LogisticRegression\n",
    "lr = LogisticRegression()\n",
    "train_data_index = admissions['fold']!=1\n",
    "train_data = admissions[train_data_index]\n",
    "test_data = admissions[admissions['fold']==1]\n",
    "lr.fit (train_data[['gpa']], train_data['actual_label'])\n",
    "label = lr.predict(test_data[['gpa']])\n",
    "correct_predict_i= (label == test_data['actual_label'])\n",
    "correct_predict = test_data[correct_predict_i]\n",
    "\n",
    "iteration_one_accuracy = len(correct_predict)/len(test_data)\n",
    "print (iteration_one_accuracy)"
   ]
  },
  {
   "cell_type": "code",
   "execution_count": 12,
   "metadata": {
    "collapsed": false
   },
   "outputs": [
    {
     "name": "stdout",
     "output_type": "stream",
     "text": [
      "[0.7603305785123967, 0.7286821705426356, 0.7674418604651163, 0.7421875, 0.7692307692307693]\n",
      "0.7535745757501836\n"
     ]
    }
   ],
   "source": [
    "fold_ids = [1,2,3,4,5]\n",
    "\n",
    "\n",
    "def train_and_test (admissions, folds):\n",
    "    #Inputs: admissions data frame, list of folds to use for k-fold validation\n",
    "    accuracies = []\n",
    "    for fold in folds:\n",
    "        lr = LogisticRegression()\n",
    "        train_data_index = admissions['fold']!=fold\n",
    "        train_data = admissions[train_data_index]\n",
    "        test_data = admissions[admissions['fold']==fold]\n",
    "        lr.fit (train_data[['gpa']], train_data['actual_label'])\n",
    "        label = lr.predict(test_data[['gpa']])\n",
    "        correct_predict_i= (label == test_data['actual_label'])\n",
    "        correct_predict = test_data[correct_predict_i]\n",
    "        iteration_accuracy = len(correct_predict)/len(test_data)\n",
    "        accuracies.append(iteration_accuracy)\n",
    "    #Output: List of accuracies of each fold of validation\n",
    "    return accuracies\n",
    "\n",
    "accuracies = train_and_test(admissions, [1,2,3,4,5])\n",
    "average_accuracy = sum(accuracies)/5\n",
    "\n",
    "print(accuracies)\n",
    "print(average_accuracy)"
   ]
  },
  {
   "cell_type": "code",
   "execution_count": 13,
   "metadata": {
    "collapsed": false
   },
   "outputs": [
    {
     "name": "stdout",
     "output_type": "stream",
     "text": [
      "[ 0.755  0.765  0.735  0.775  0.75 ]\n",
      "0.756\n"
     ]
    }
   ],
   "source": [
    "#Utilize sklearn to perform K-fold Validation\n",
    "from sklearn.cross_validation import KFold\n",
    "from sklearn.cross_validation import cross_val_score\n",
    "admissions = pd.read_csv(\"admissions.csv\")\n",
    "admissions[\"actual_label\"] = admissions[\"admit\"]\n",
    "admissions = admissions.drop(\"admit\", axis=1)\n",
    "\n",
    "kf = KFold(len(admissions), 5, shuffle=True, random_state=8)\n",
    "lr = LogisticRegression()\n",
    "\n",
    "accuracies = cross_val_score(lr, admissions[['gpa']], admissions['actual_label'], scoring=None, cv=kf)\n",
    "average_accuracy = sum(accuracies)/5\n",
    "\n",
    "print (accuracies)\n",
    "print(average_accuracy)\n"
   ]
  },
  {
   "cell_type": "code",
   "execution_count": null,
   "metadata": {
    "collapsed": true
   },
   "outputs": [],
   "source": []
  }
 ],
 "metadata": {
  "kernelspec": {
   "display_name": "Python [conda root]",
   "language": "python",
   "name": "conda-root-py"
  },
  "language_info": {
   "codemirror_mode": {
    "name": "ipython",
    "version": 3
   },
   "file_extension": ".py",
   "mimetype": "text/x-python",
   "name": "python",
   "nbconvert_exporter": "python",
   "pygments_lexer": "ipython3",
   "version": "3.5.2"
  }
 },
 "nbformat": 4,
 "nbformat_minor": 1
}
