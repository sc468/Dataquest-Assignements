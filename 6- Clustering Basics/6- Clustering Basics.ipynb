{
 "cells": [
  {
   "cell_type": "markdown",
   "metadata": {},
   "source": [
    "Data source: https://github.com/buswedg/dataquest/blob/master/Machine%20Learning%20in%20Python/Clustering%20Basics/data/114_congress.csv"
   ]
  },
  {
   "cell_type": "code",
   "execution_count": 1,
   "metadata": {
    "collapsed": true
   },
   "outputs": [],
   "source": [
    "import pandas as pd\n",
    "votes = pd.read_csv('114_congress.csv')"
   ]
  },
  {
   "cell_type": "code",
   "execution_count": 2,
   "metadata": {
    "collapsed": false
   },
   "outputs": [
    {
     "name": "stdout",
     "output_type": "stream",
     "text": [
      "R    54\n",
      "D    44\n",
      "I     2\n",
      "Name: party, dtype: int64\n",
      "00001    0.325\n",
      "00004    0.575\n",
      "00005    0.535\n",
      "00006    0.945\n",
      "00007    0.545\n",
      "00008    0.415\n",
      "00009    0.545\n",
      "00010    0.985\n",
      "00020    0.525\n",
      "00026    0.545\n",
      "00032    0.410\n",
      "00038    0.480\n",
      "00039    0.510\n",
      "00044    0.460\n",
      "00047    0.370\n",
      "dtype: float64\n"
     ]
    }
   ],
   "source": [
    "#Number of senators in each party\n",
    "print( votes['party'].value_counts())\n",
    "#Average number of votes per bill\n",
    "print(votes.mean())"
   ]
  },
  {
   "cell_type": "code",
   "execution_count": 6,
   "metadata": {
    "collapsed": false
   },
   "outputs": [
    {
     "name": "stdout",
     "output_type": "stream",
     "text": [
      "[[ 3.31662479]]\n"
     ]
    }
   ],
   "source": [
    "#Calculate Euclidean distance between 1st and 3rd row\n",
    "from sklearn.metrics.pairwise import euclidean_distances\n",
    "distance = euclidean_distances(votes.iloc[0,3:].values.reshape(1, -1), votes.iloc[2,3:].values.reshape(1, -1))\n",
    "print(distance)\n",
    "\n"
   ]
  },
  {
   "cell_type": "code",
   "execution_count": 12,
   "metadata": {
    "collapsed": false
   },
   "outputs": [
    {
     "name": "stdout",
     "output_type": "stream",
     "text": [
      "[[ 3.12141628  1.3134775 ]\n",
      " [ 2.6146248   2.05339992]\n",
      " [ 0.33960656  3.41651746]\n",
      " [ 3.42004795  0.24198446]\n",
      " [ 1.43833966  2.96866004]]\n"
     ]
    }
   ],
   "source": [
    "from sklearn.cluster import KMeans\n",
    "\n",
    "#Create kmeans model with 2 clusters\n",
    "kmeans_model = KMeans(n_clusters=2, random_state=1)\n",
    "\n",
    "#Fit model to dataset voting information\n",
    "senator_distances = kmeans_model.fit_transform(votes.iloc[:, 3:])\n",
    "print (senator_distances[0:5])"
   ]
  },
  {
   "cell_type": "code",
   "execution_count": 13,
   "metadata": {
    "collapsed": false
   },
   "outputs": [
    {
     "name": "stdout",
     "output_type": "stream",
     "text": [
      "party   D  I   R\n",
      "row_0           \n",
      "0      41  2   0\n",
      "1       3  0  54\n"
     ]
    }
   ],
   "source": [
    "\n",
    "#Print how many of each political party is in each cluster\n",
    "labels = kmeans_model.labels_\n",
    "\n",
    "print (pd.crosstab(labels, votes['party']))"
   ]
  },
  {
   "cell_type": "code",
   "execution_count": 15,
   "metadata": {
    "collapsed": false
   },
   "outputs": [
    {
     "name": "stdout",
     "output_type": "stream",
     "text": [
      "        name party state  00001  00004  00005  00006  00007  00008  00009  \\\n",
      "42  Heitkamp     D    ND    0.0    1.0    0.0    1.0    0.0    0.0    1.0   \n",
      "56   Manchin     D    WV    0.0    1.0    0.0    1.0    0.0    0.0    1.0   \n",
      "74      Reid     D    NV    0.5    0.5    0.5    0.5    0.5    0.5    0.5   \n",
      "\n",
      "    00010  00020  00026  00032  00038  00039  00044  00047  \n",
      "42    1.0    0.0    0.0    0.0    1.0    0.0    0.0    0.0  \n",
      "56    1.0    1.0    0.0    0.0    1.0    1.0    0.0    0.0  \n",
      "74    0.5    0.5    0.5    0.5    0.5    0.5    0.5    0.5  \n"
     ]
    }
   ],
   "source": [
    "#Print Democratic Outliers\n",
    "democratic_outliers = votes[(labels == 1) & (votes[\"party\"] == \"D\")]\n",
    "print (democratic_outliers)"
   ]
  },
  {
   "cell_type": "code",
   "execution_count": 19,
   "metadata": {
    "collapsed": false
   },
   "outputs": [
    {
     "data": {
      "image/png": "[encoded data removed]",
      "text/plain": [
       "<matplotlib.figure.Figure at 0x1d8309ceac8>"
      ]
     },
     "metadata": {},
     "output_type": "display_data"
    }
   ],
   "source": [
    "#Plot Clusters\n",
    "import matplotlib.pyplot as plt\n",
    "\n",
    "plt.scatter(senator_distances[:,0],senator_distances[:,1], labels)\n",
    "plt.xlabel('Distance from 1st Cluster')\n",
    "plt.ylabel('Distance from 2nd Cluster')\n",
    "plt.show()"
   ]
  },
  {
   "cell_type": "code",
   "execution_count": 22,
   "metadata": {
    "collapsed": false
   },
   "outputs": [
    {
     "name": "stdout",
     "output_type": "stream",
     "text": [
      "        name party state  00001  00004  00005  00006  00007  00008  00009  \\\n",
      "78     Rubio     R    FL    0.0    1.0    1.0    1.0    1.0    0.0    1.0   \n",
      "63  Mikulski     D    MD    1.0    0.0    0.0    1.0    0.0    1.0    0.0   \n",
      "55       Lee     R    UT    0.0    1.0    1.0    0.0    1.0    0.0    1.0   \n",
      "50      King     I    ME    0.0    0.0    0.0    1.0    0.0    1.0    0.0   \n",
      "24    Cotton     R    AR    0.0    1.0    1.0    1.0    1.0    0.0    1.0   \n",
      "67    Murray     D    WA    1.0    0.0    0.0    1.0    0.0    1.0    0.0   \n",
      "61  Menendez     D    NJ    1.0    0.0    0.0    1.0    0.0    1.0    0.0   \n",
      "29    Durbin     D    IL    1.0    0.0    0.0    1.0    0.0    1.0    0.0   \n",
      "79   Sanders     I    VT    1.0    0.0    0.0    1.0    0.0    1.0    0.0   \n",
      "6      Blunt     R    MO    0.0    1.0    1.0    1.0    1.0    0.0    1.0   \n",
      "\n",
      "    00010  00020  00026  00032  00038  00039  00044  00047  extremism  \n",
      "78    1.0    1.0    1.0    0.5    0.5    0.5    0.5    0.5  46.250476  \n",
      "63    1.0    0.0    0.0    1.0    1.0    0.0    1.0    1.0  46.046873  \n",
      "55    1.0    0.5    0.5    0.0    0.0    1.0    0.0    0.0  46.046873  \n",
      "50    1.0    0.0    0.0    1.0    1.0    0.0    1.0    1.0  46.046873  \n",
      "24    1.0    1.0    1.0    0.0    0.0    1.0    0.0    0.0  46.046873  \n",
      "67    1.0    0.0    0.0    1.0    1.0    0.0    1.0    1.0  40.017540  \n",
      "61    1.0    0.0    0.0    1.0    1.0    0.0    1.0    1.0  40.017540  \n",
      "29    1.0    0.0    0.0    1.0    1.0    0.0    1.0    1.0  40.017540  \n",
      "79    1.0    0.0    0.0    1.0    1.0    0.0    1.0    1.0  40.017540  \n",
      "6     1.0    1.0    1.0    0.0    0.0    1.0    0.0    0.0  40.017540  \n"
     ]
    }
   ],
   "source": [
    "#Create custom extremism rating\n",
    "import numpy\n",
    "extremism = numpy.sum((senator_distances**3), axis = 1)\n",
    "\n",
    "votes['extremism']=extremism\n",
    "votes = votes.sort_values('extremism', ascending = False)\n",
    "\n",
    "#Print the most partisan senators\n",
    "print (votes.head(10))"
   ]
  },
  {
   "cell_type": "code",
   "execution_count": null,
   "metadata": {
    "collapsed": true
   },
   "outputs": [],
   "source": []
  }
 ],
 "metadata": {
  "kernelspec": {
   "display_name": "Python [conda root]",
   "language": "python",
   "name": "conda-root-py"
  },
  "language_info": {
   "codemirror_mode": {
    "name": "ipython",
    "version": 3
   },
   "file_extension": ".py",
   "mimetype": "text/x-python",
   "name": "python",
   "nbconvert_exporter": "python",
   "pygments_lexer": "ipython3",
   "version": "3.5.2"
  }
 },
 "nbformat": 4,
 "nbformat_minor": 1
}
