{
 "cells": [
  {
   "cell_type": "code",
   "execution_count": 20,
   "metadata": {
    "collapsed": false
   },
   "outputs": [
    {
     "name": "stdout",
     "output_type": "stream",
     "text": [
      "[1 3 2]\n"
     ]
    }
   ],
   "source": [
    "#Data source https://github.com/buswedg/dataquest/blob/master/Machine%20Learning%20in%20Python/Multiclass%20Classification/data/auto.txt\n",
    "\n",
    "#Import file and check unique values of regions\n",
    "import pandas as pd\n",
    "cars = pd.read_csv(\"auto.csv\", sep = \" \")\n",
    "\n",
    "unique_regions = cars['origin'].unique()\n",
    "print (unique_regions)"
   ]
  },
  {
   "cell_type": "code",
   "execution_count": 21,
   "metadata": {
    "collapsed": false
   },
   "outputs": [
    {
     "name": "stdout",
     "output_type": "stream",
     "text": [
      "    mpg  cylinders  displacement horsepower  weight  acceleration  year  \\\n",
      "0  18.0          8         307.0      130.0  3504.0          12.0    70   \n",
      "1  15.0          8         350.0      165.0  3693.0          11.5    70   \n",
      "2  18.0          8         318.0      150.0  3436.0          11.0    70   \n",
      "3  16.0          8         304.0      150.0  3433.0          12.0    70   \n",
      "4  17.0          8         302.0      140.0  3449.0          10.5    70   \n",
      "\n",
      "   origin                   car_name  cyl_3  cyl_4  cyl_5  cyl_6  cyl_8  \n",
      "0       1  chevrolet chevelle malibu      0      0      0      0      1  \n",
      "1       1          buick skylark 320      0      0      0      0      1  \n",
      "2       1         plymouth satellite      0      0      0      0      1  \n",
      "3       1              amc rebel sst      0      0      0      0      1  \n",
      "4       1                ford torino      0      0      0      0      1  \n",
      "    mpg  displacement horsepower  weight  acceleration  origin  \\\n",
      "0  18.0         307.0      130.0  3504.0          12.0       1   \n",
      "1  15.0         350.0      165.0  3693.0          11.5       1   \n",
      "2  18.0         318.0      150.0  3436.0          11.0       1   \n",
      "3  16.0         304.0      150.0  3433.0          12.0       1   \n",
      "4  17.0         302.0      140.0  3449.0          10.5       1   \n",
      "\n",
      "                    car_name  cyl_3  cyl_4  cyl_5   ...     year_73  year_74  \\\n",
      "0  chevrolet chevelle malibu      0      0      0   ...           0        0   \n",
      "1          buick skylark 320      0      0      0   ...           0        0   \n",
      "2         plymouth satellite      0      0      0   ...           0        0   \n",
      "3              amc rebel sst      0      0      0   ...           0        0   \n",
      "4                ford torino      0      0      0   ...           0        0   \n",
      "\n",
      "   year_75  year_76  year_77  year_78  year_79  year_80  year_81  year_82  \n",
      "0        0        0        0        0        0        0        0        0  \n",
      "1        0        0        0        0        0        0        0        0  \n",
      "2        0        0        0        0        0        0        0        0  \n",
      "3        0        0        0        0        0        0        0        0  \n",
      "4        0        0        0        0        0        0        0        0  \n",
      "\n",
      "[5 rows x 25 columns]\n"
     ]
    }
   ],
   "source": [
    "#Create dummy columns according to number of cylinders\n",
    "dummy_cylinders = pd.get_dummies(cars[\"cylinders\"], prefix=\"cyl\")\n",
    "cars = pd.concat([cars, dummy_cylinders], axis=1)\n",
    "print(cars.head())\n",
    "\n",
    "#Create dummy columns according to year column\n",
    "dummy_years = pd.get_dummies(cars[\"year\"], prefix=\"year\")\n",
    "cars = pd.concat([cars, dummy_years], axis=1)\n",
    "cars.drop(labels = 'year', axis = 1, inplace = True)\n",
    "cars.drop(labels = 'cylinders', axis = 1, inplace = True)\n",
    "print (cars.head())"
   ]
  },
  {
   "cell_type": "code",
   "execution_count": 22,
   "metadata": {
    "collapsed": false
   },
   "outputs": [],
   "source": [
    "import numpy as np\n",
    "\n",
    "#Shuffle dataset\n",
    "shuffled_rows = np.random.permutation(cars.index)\n",
    "shuffled_cars = cars.iloc[shuffled_rows]\n",
    "\n",
    "#Split data into training and testing set\n",
    "train = shuffled_cars.iloc[0:int(np.floor(len(cars)*0.7))]\n",
    "test = shuffled_cars.iloc[int(np.floor(len(cars)*0.7)):len(cars)]"
   ]
  },
  {
   "cell_type": "code",
   "execution_count": 37,
   "metadata": {
    "collapsed": false
   },
   "outputs": [],
   "source": [
    "#Train logistic model to classify origin given number of cylinders and year\n",
    "\n",
    "from sklearn.linear_model import LogisticRegression\n",
    "\n",
    "unique_origins = cars[\"origin\"].unique()\n",
    "unique_origins.sort()\n",
    "\n",
    "models = {}\n",
    "\n",
    "features = [c for c in train.columns if c.startswith(\"cyl\") or c.startswith(\"year\")]\n",
    "\n",
    "x = train [features]\n",
    "\n",
    "for i in unique_origins:\n",
    "    models[i] = LogisticRegression()\n",
    "    y = (train['origin'] == i)\n",
    "    models[i].fit(x,y)\n",
    "\n",
    "\n"
   ]
  },
  {
   "cell_type": "code",
   "execution_count": 38,
   "metadata": {
    "collapsed": false
   },
   "outputs": [],
   "source": [
    "#Predict %chance that test entries came from each origin\n",
    "testing_probs = pd.DataFrame(columns=unique_origins)\n",
    "\n",
    "x = test [features]\n",
    "\n",
    "for i in unique_origins:\n",
    "    prediction = models[i].predict_proba(x)[:,1]\n",
    "    testing_probs [i]= prediction\n"
   ]
  },
  {
   "cell_type": "code",
   "execution_count": 39,
   "metadata": {
    "collapsed": false
   },
   "outputs": [
    {
     "name": "stdout",
     "output_type": "stream",
     "text": [
      "0      1\n",
      "1      3\n",
      "2      3\n",
      "3      1\n",
      "4      2\n",
      "5      1\n",
      "6      1\n",
      "7      1\n",
      "8      1\n",
      "9      2\n",
      "10     1\n",
      "11     3\n",
      "12     3\n",
      "13     3\n",
      "14     1\n",
      "15     1\n",
      "16     1\n",
      "17     2\n",
      "18     2\n",
      "19     1\n",
      "20     3\n",
      "21     1\n",
      "22     1\n",
      "23     1\n",
      "24     2\n",
      "25     1\n",
      "26     1\n",
      "27     1\n",
      "28     2\n",
      "29     1\n",
      "      ..\n",
      "90     1\n",
      "91     2\n",
      "92     3\n",
      "93     1\n",
      "94     1\n",
      "95     1\n",
      "96     1\n",
      "97     1\n",
      "98     1\n",
      "99     2\n",
      "100    2\n",
      "101    1\n",
      "102    1\n",
      "103    1\n",
      "104    1\n",
      "105    2\n",
      "106    1\n",
      "107    1\n",
      "108    1\n",
      "109    1\n",
      "110    2\n",
      "111    1\n",
      "112    1\n",
      "113    3\n",
      "114    1\n",
      "115    2\n",
      "116    1\n",
      "117    3\n",
      "118    1\n",
      "119    3\n",
      "dtype: int64\n"
     ]
    }
   ],
   "source": [
    "#Classify test entries by max %chance\n",
    "\n",
    "predicted_origins = testing_probs.idxmax( axis = 1)\n",
    "print (predicted_origins)"
   ]
  },
  {
   "cell_type": "code",
   "execution_count": 26,
   "metadata": {
    "collapsed": false
   },
   "outputs": [
    {
     "data": {
      "text/plain": [
       "386    1\n",
       "249    1\n",
       "127    1\n",
       "198    3\n",
       "23     2\n",
       "20     2\n",
       "130    1\n",
       "228    1\n",
       "285    1\n",
       "125    1\n",
       "225    1\n",
       "186    2\n",
       "48     1\n",
       "344    1\n",
       "131    3\n",
       "67     1\n",
       "256    1\n",
       "333    3\n",
       "64     1\n",
       "114    2\n",
       "169    1\n",
       "162    1\n",
       "50     2\n",
       "31     3\n",
       "44     1\n",
       "110    3\n",
       "276    2\n",
       "232    1\n",
       "123    3\n",
       "298    1\n",
       "      ..\n",
       "395    1\n",
       "215    1\n",
       "181    3\n",
       "68     1\n",
       "92     1\n",
       "93     1\n",
       "0      1\n",
       "233    2\n",
       "207    2\n",
       "160    1\n",
       "220    3\n",
       "253    1\n",
       "52     2\n",
       "219    1\n",
       "306    1\n",
       "301    1\n",
       "13     1\n",
       "74     1\n",
       "177    2\n",
       "72     1\n",
       "89     1\n",
       "237    1\n",
       "199    1\n",
       "98     1\n",
       "103    1\n",
       "312    3\n",
       "106    1\n",
       "348    3\n",
       "132    1\n",
       "205    3\n",
       "Name: origin, dtype: int64"
      ]
     },
     "execution_count": 26,
     "metadata": {},
     "output_type": "execute_result"
    }
   ],
   "source": [
    "train['origin']"
   ]
  },
  {
   "cell_type": "code",
   "execution_count": 27,
   "metadata": {
    "collapsed": false
   },
   "outputs": [
    {
     "data": {
      "text/plain": [
       "array([1, 2, 3], dtype=int64)"
      ]
     },
     "execution_count": 27,
     "metadata": {},
     "output_type": "execute_result"
    }
   ],
   "source": [
    "unique_origins"
   ]
  },
  {
   "cell_type": "code",
   "execution_count": null,
   "metadata": {
    "collapsed": true
   },
   "outputs": [],
   "source": []
  }
 ],
 "metadata": {
  "anaconda-cloud": {},
  "kernelspec": {
   "display_name": "Python [conda root]",
   "language": "python",
   "name": "conda-root-py"
  },
  "language_info": {
   "codemirror_mode": {
    "name": "ipython",
    "version": 3
   },
   "file_extension": ".py",
   "mimetype": "text/x-python",
   "name": "python",
   "nbconvert_exporter": "python",
   "pygments_lexer": "ipython3",
   "version": "3.5.2"
  }
 },
 "nbformat": 4,
 "nbformat_minor": 1
}
