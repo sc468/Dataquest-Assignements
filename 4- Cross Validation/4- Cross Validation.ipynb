{
 "cells": [
  {
   "cell_type": "code",
   "execution_count": 1,
   "metadata": {
    "collapsed": false
   },
   "outputs": [
    {
     "name": "stdout",
     "output_type": "stream",
     "text": [
      "   col       gpa         gre  actual_label\n",
      "0    0  3.177277  594.102992           0.0\n",
      "1    1  3.412655  631.528607           0.0\n",
      "2    2  2.728097  553.714399           0.0\n",
      "3    3  3.093559  551.089985           0.0\n",
      "4    4  3.141923  537.184894           0.0\n"
     ]
    }
   ],
   "source": [
    "import pandas as pd\n",
    "from sklearn.linear_model import LogisticRegression\n",
    "\n",
    "#Read in CSV file\n",
    "admissions = pd.read_csv(\"admissions.csv\")\n"
   ]
  },
  {
   "cell_type": "markdown",
   "metadata": {},
   "source": [
    "# Holdout Validation"
   ]
  },
  {
   "cell_type": "code",
   "execution_count": 5,
   "metadata": {
    "collapsed": true
   },
   "outputs": [],
   "source": [
    "import numpy as np\n",
    "np.random.seed(8)\n",
    "\n",
    "#Rename Column\n",
    "admissions = pd.read_csv(\"admissions.csv\")\n",
    "admissions[\"actual_label\"] = admissions[\"admit\"]\n",
    "admissions = admissions.drop(\"admit\", axis=1)\n",
    "\n",
    "#Randomize entries\n",
    "shuffled_index = np.random.permutation(admissions.index)\n",
    "shuffled_admissions = admissions.loc[shuffled_index]\n",
    "\n",
    "#Define Training and Testing Set\n",
    "train = shuffled_admissions.iloc[range(0,515)]\n",
    "test = shuffled_admissions.iloc[range(515,(shuffled_admissions.shape[0]))]"
   ]
  },
  {
   "cell_type": "code",
   "execution_count": 15,
   "metadata": {
    "collapsed": false
   },
   "outputs": [
    {
     "name": "stdout",
     "output_type": "stream",
     "text": [
      "0.7731958762886598\n"
     ]
    }
   ],
   "source": [
    "#Disable SettingWithCopyWarning\n",
    "pd.options.mode.chained_assignment = None\n",
    "\n",
    "#Fit Logistic Model\n",
    "lr = LogisticRegression()\n",
    "lr.fit(train[['gre', 'gpa']], train['actual_label'])\n",
    "test['predicted_label'] = lr.predict(test[['gre', 'gpa']])\n",
    "matching_rows = (test['actual_label'] == test['predicted_label'])\n",
    "correct_predictions = test[matching_rows]\n",
    "accuracy = len(correct_predictions)/ len(test)\n",
    "print (accuracy)"
   ]
  },
  {
   "cell_type": "code",
   "execution_count": 16,
   "metadata": {
    "collapsed": false
   },
   "outputs": [
    {
     "name": "stdout",
     "output_type": "stream",
     "text": [
      "0.10084033613445378\n",
      "0.9918032786885246\n"
     ]
    }
   ],
   "source": [
    "#Calculate sensitivity and specificity\n",
    "true_posi = (test['predicted_label'] == 1) & (test['actual_label'] == 1)\n",
    "true_positives = test[true_posi]\n",
    "false_posi = (test['predicted_label'] == 1) & (test['actual_label'] == 0)\n",
    "false_positives = test[false_posi]\n",
    "true_negi = (test['predicted_label'] == 0) & (test['actual_label'] == 0)\n",
    "true_negatives = test[true_negi]\n",
    "false_negi = (test['predicted_label'] == 0) & (test['actual_label'] == 1)\n",
    "false_negatives = test[false_negi]\n",
    "\n",
    "sensitivity = len(true_positives) / (len(true_positives)+len(false_negatives))\n",
    "specificity = len(true_negatives) / (len(true_negatives)+len(false_positives))\n",
    "\n",
    "print (sensitivity)\n",
    "print (specificity)"
   ]
  },
  {
   "cell_type": "code",
   "execution_count": 18,
   "metadata": {
    "collapsed": false
   },
   "outputs": [
    {
     "data": {
      "image/png": "[encoded data removed]",
      "text/plain": [
       "<matplotlib.figure.Figure at 0x24cb2144128>"
      ]
     },
     "metadata": {},
     "output_type": "display_data"
    }
   ],
   "source": [
    "#Plot ROC curve\n",
    "import matplotlib.pyplot as plt\n",
    "import sklearn.metrics as scm\n",
    "\n",
    "predictions = lr.predict_proba(test[['gre', 'gpa']])\n",
    "fpr, tpr, thresholds = scm.roc_curve(test['actual_label'], predictions[:,1])\n",
    "\n",
    "plt.plot(fpr, tpr)\n",
    "plt.show()"
   ]
  },
  {
   "cell_type": "code",
   "execution_count": 22,
   "metadata": {
    "collapsed": false
   },
   "outputs": [
    {
     "name": "stdout",
     "output_type": "stream",
     "text": [
      "0.733365477338\n"
     ]
    }
   ],
   "source": [
    "#Print AUC \n",
    "from sklearn.metrics import roc_auc_score\n",
    "auc_score = roc_auc_score(test['actual_label'], predictions[:,1])\n",
    "print (auc_score)"
   ]
  },
  {
   "cell_type": "code",
   "execution_count": null,
   "metadata": {
    "collapsed": true
   },
   "outputs": [],
   "source": []
  }
 ],
 "metadata": {
  "anaconda-cloud": {},
  "kernelspec": {
   "display_name": "Python [conda root]",
   "language": "python",
   "name": "conda-root-py"
  },
  "language_info": {
   "codemirror_mode": {
    "name": "ipython",
    "version": 3
   },
   "file_extension": ".py",
   "mimetype": "text/x-python",
   "name": "python",
   "nbconvert_exporter": "python",
   "pygments_lexer": "ipython3",
   "version": "3.5.2"
  }
 },
 "nbformat": 4,
 "nbformat_minor": 1
}
