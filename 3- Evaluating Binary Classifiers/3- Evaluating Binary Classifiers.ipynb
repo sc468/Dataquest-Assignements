{
 "cells": [
  {
   "cell_type": "code",
   "execution_count": 34,
   "metadata": {
    "collapsed": false
   },
   "outputs": [
    {
     "name": "stdout",
     "output_type": "stream",
     "text": [
      "Distribution of values: 0.0    960\n",
      "1.0     40\n",
      "Name: predicted_label, dtype: int64\n",
      "   col  admit       gpa         gre  predicted_label\n",
      "0    0    0.0  3.177277  594.102992              0.0\n",
      "1    1    0.0  3.412655  631.528607              0.0\n",
      "2    2    0.0  2.728097  553.714399              0.0\n",
      "3    3    0.0  3.093559  551.089985              0.0\n",
      "4    4    0.0  3.141923  537.184894              0.0\n"
     ]
    }
   ],
   "source": [
    "import pandas as pd\n",
    "import matplotlib.pyplot as plt\n",
    "from sklearn.linear_model import LogisticRegression\n",
    "admissions = pd.read_csv(\"admissions.csv\")\n",
    "#Fit with logistic model\n",
    "model = LogisticRegression()\n",
    "model.fit(admissions[['gre','gpa']], admissions[\"admit\"])\n",
    "labels = model.predict(admissions[['gre', 'gpa']])\n",
    "admissions['predicted_label'] = labels\n",
    "print ('Distribution of values:', admissions['predicted_label'].value_counts())\n",
    "\n",
    "print (admissions.head())"
   ]
  },
  {
   "cell_type": "code",
   "execution_count": null,
   "metadata": {
    "collapsed": false
   },
   "outputs": [],
   "source": []
  },
  {
   "cell_type": "code",
   "execution_count": 37,
   "metadata": {
    "collapsed": false
   },
   "outputs": [
    {
     "name": "stdout",
     "output_type": "stream",
     "text": [
      "   col  actual_label       gpa         gre  predicted_label\n",
      "0    0           0.0  3.177277  594.102992              0.0\n",
      "1    1           0.0  3.412655  631.528607              0.0\n",
      "2    2           0.0  2.728097  553.714399              0.0\n",
      "3    3           0.0  3.093559  551.089985              0.0\n",
      "4    4           0.0  3.141923  537.184894              0.0\n",
      "Accuracy = 0.786\n"
     ]
    }
   ],
   "source": [
    "#Calculate Logistic Model Accuracy\n",
    "admissions.rename(columns = {'admit': 'actual_label'}, inplace = True)\n",
    "matches = (admissions['predicted_label'] == admissions['actual_label'])\n",
    "correct_predictions = admissions[matches]\n",
    "print (correct_predictions.head())\n",
    "accuracy = correct_predictions.shape[0]/admissions.shape[0]\n",
    "print ('Accuracy =',accuracy)"
   ]
  },
  {
   "cell_type": "code",
   "execution_count": 38,
   "metadata": {
    "collapsed": false,
    "scrolled": true
   },
   "outputs": [
    {
     "name": "stdout",
     "output_type": "stream",
     "text": [
      "0      False\n",
      "1      False\n",
      "2      False\n",
      "3      False\n",
      "4      False\n",
      "5      False\n",
      "6      False\n",
      "7      False\n",
      "8      False\n",
      "9      False\n",
      "10     False\n",
      "11     False\n",
      "12     False\n",
      "13     False\n",
      "14     False\n",
      "15     False\n",
      "16     False\n",
      "17     False\n",
      "18     False\n",
      "19     False\n",
      "20     False\n",
      "21     False\n",
      "22     False\n",
      "23     False\n",
      "24     False\n",
      "25     False\n",
      "26     False\n",
      "27     False\n",
      "28     False\n",
      "29     False\n",
      "       ...  \n",
      "970    False\n",
      "971    False\n",
      "972    False\n",
      "973    False\n",
      "974    False\n",
      "975    False\n",
      "976    False\n",
      "977    False\n",
      "978    False\n",
      "979    False\n",
      "980    False\n",
      "981    False\n",
      "982    False\n",
      "983    False\n",
      "984    False\n",
      "985    False\n",
      "986    False\n",
      "987    False\n",
      "988    False\n",
      "989    False\n",
      "990    False\n",
      "991    False\n",
      "992    False\n",
      "993    False\n",
      "994    False\n",
      "995    False\n",
      "996    False\n",
      "997    False\n",
      "998    False\n",
      "999    False\n",
      "dtype: bool\n"
     ]
    }
   ],
   "source": []
  },
  {
   "cell_type": "code",
   "execution_count": 41,
   "metadata": {
    "collapsed": false
   },
   "outputs": [
    {
     "name": "stdout",
     "output_type": "stream",
     "text": [
      "Sensitivity: 0.14344262295081966\n"
     ]
    }
   ],
   "source": [
    "#Find number of true positives, true negatives, false positives, and false negatives\n",
    "true_positive_filter = (admissions[\"predicted_label\"] == 1) & (admissions[\"actual_label\"] == 1)\n",
    "true_positives = len(admissions[true_positive_filter])\n",
    "false_negative_filter = (admissions[\"predicted_label\"] == 0) & (admissions[\"actual_label\"] == 1)\n",
    "false_negatives = len(admissions[false_negative_filter])\n",
    "true_negative_filter = (admissions[\"predicted_label\"] == 0) & (admissions[\"actual_label\"] == 0)\n",
    "true_negatives = len(admissions[true_negative_filter])\n",
    "false_positive_filter = (admissions[\"predicted_label\"] == 1) & (admissions[\"actual_label\"] == 0)\n",
    "false_positives = len(admissions[false_positive_filter])\n",
    "\n",
    "#Calculate sensitivity\n",
    "sensitivity = true_positives / (true_positives+ false_negatives)\n",
    "print ('Sensitivity:', sensitivity)"
   ]
  },
  {
   "cell_type": "code",
   "execution_count": 43,
   "metadata": {
    "collapsed": false
   },
   "outputs": [
    {
     "name": "stdout",
     "output_type": "stream",
     "text": [
      "Specificity: 0.9933862433862434\n"
     ]
    }
   ],
   "source": [
    "#Calculate specificity\n",
    "specificity = true_negatives / (false_positives + true_negatives)\n",
    "print ('Specificity:', specificity)"
   ]
  },
  {
   "cell_type": "code",
   "execution_count": null,
   "metadata": {
    "collapsed": true
   },
   "outputs": [],
   "source": []
  }
 ],
 "metadata": {
  "anaconda-cloud": {},
  "kernelspec": {
   "display_name": "Python [conda root]",
   "language": "python",
   "name": "conda-root-py"
  },
  "language_info": {
   "codemirror_mode": {
    "name": "ipython",
    "version": 3
   },
   "file_extension": ".py",
   "mimetype": "text/x-python",
   "name": "python",
   "nbconvert_exporter": "python",
   "pygments_lexer": "ipython3",
   "version": "3.5.2"
  }
 },
 "nbformat": 4,
 "nbformat_minor": 1
}
